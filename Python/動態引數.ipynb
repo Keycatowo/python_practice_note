{
 "cells": [
  {
   "attachments": {},
   "cell_type": "markdown",
   "metadata": {},
   "source": [
    "# 動態引數`*args`與`**kwargs`\n",
    "\n",
    "## 說明\n",
    "### 概念\n",
    "動態引數*args和**kwargs是Python中的一種參數傳遞方式，用於在函數中接收不定數量的參數。\n",
    "\n",
    "+ `*args`：用來接收任意數量的位置引數，可以接收0個或多個引數，它們會被收集成一個元組(tuple)。\n",
    "+ `**kwargs`：用來接收任意數量的關鍵字引數，可以接收0個或多個引數，它們會被收集成一個字典(dict)。\n",
    "\n",
    "### 使用方式\n",
    "`*args`的使用方式為在函數定義時，在需要接收位置引數的參數名稱前加上`*`號，如：`def func(*args)`:。在函數內部，可以像操作元組一樣來訪問args中的引數。\n",
    "`**kwargs`的使用方式為在函數定義時，在需要接收關鍵字引數的參數名稱前加上`**`號，如：`def func(**kwargs)`:。在函數內部，可以像操作字典一樣來訪問kwargs中的引數。"
   ]
  },
  {
   "attachments": {},
   "cell_type": "markdown",
   "metadata": {},
   "source": [
    "## `*args`\n",
    "\n",
    "`*args`是一個tuple，可以用來接收任意數量的位置引數。"
   ]
  },
  {
   "cell_type": "code",
   "execution_count": 2,
   "metadata": {},
   "outputs": [
    {
     "name": "stdout",
     "output_type": "stream",
     "text": [
      "(1, 2, 3, 4, 5, 6, 7, 8, 9, 10)\n",
      "<class 'tuple'>\n"
     ]
    }
   ],
   "source": [
    "def func(*args):\n",
    "    print(args)\n",
    "    print(type(args))\n",
    "func(1,2,3,4,5,6,7,8,9,10)"
   ]
  },
  {
   "attachments": {},
   "cell_type": "markdown",
   "metadata": {},
   "source": [
    "## `**kwargs`\n",
    "\n",
    "`**kwargs`是一個dict，可以用來接收任意數量的關鍵字引數。"
   ]
  },
  {
   "cell_type": "code",
   "execution_count": 8,
   "metadata": {},
   "outputs": [
    {
     "name": "stdout",
     "output_type": "stream",
     "text": [
      "a=1, b=2, kwargs={'c': 3, 'd': 4}\n",
      "c=3, d=4, kwargs={}\n",
      "e=1, f=2\n"
     ]
    },
    {
     "data": {
      "text/plain": [
       "3"
      ]
     },
     "execution_count": 8,
     "metadata": {},
     "output_type": "execute_result"
    }
   ],
   "source": [
    "def fun1(a, b, **kwargs):\n",
    "    print(f\"a={a}, b={b}, kwargs={kwargs}\")\n",
    "    ans = kwargs.get('c', 0) # 如果沒有c，就回傳0，使用.get()方法不影響往下傳遞的參數\n",
    "    fun2(**kwargs)\n",
    "    return ans\n",
    "\n",
    "def fun2(c, d, **kwargs):\n",
    "    print(f\"c={c}, d={d}, kwargs={kwargs}\")\n",
    "    fun3(**kwargs)\n",
    "    \n",
    "def fun3(e=1, f=2):\n",
    "    print(f\"e={e}, f={f}\")\n",
    "\n",
    "fun1(1, 2, c=3, d=4)"
   ]
  },
  {
   "cell_type": "code",
   "execution_count": null,
   "metadata": {},
   "outputs": [],
   "source": []
  }
 ],
 "metadata": {
  "kernelspec": {
   "display_name": "base",
   "language": "python",
   "name": "python3"
  },
  "language_info": {
   "codemirror_mode": {
    "name": "ipython",
    "version": 3
   },
   "file_extension": ".py",
   "mimetype": "text/x-python",
   "name": "python",
   "nbconvert_exporter": "python",
   "pygments_lexer": "ipython3",
   "version": "3.9.7"
  },
  "orig_nbformat": 4,
  "vscode": {
   "interpreter": {
    "hash": "94d0702b9040e4540dbdcd2622f6722954ebcebc13944d055ead4ea5c30fcfd6"
   }
  }
 },
 "nbformat": 4,
 "nbformat_minor": 2
}
